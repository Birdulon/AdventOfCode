{
 "cells": [
  {
   "cell_type": "code",
   "execution_count": null,
   "metadata": {},
   "outputs": [],
   "source": [
    "from helpers import *\n",
    "\n",
    "print(f'Initializing day {day:02}')\n",
    "download_input(day)\n",
    "input_stripped = read_day(day)\n",
    "lines = input_stripped.split('\\n')\n",
    "# input_a, _, input_b = file.read().strip().partition('\\n\\n')\n",
    "# transpose_array_of_strings(input_a)\n",
    "# s = set(input)\n",
    "# print(s, len(s))\n",
    "# numbers = np.array([[int(x) for x in line] for line in lines])"
   ]
  }
 ],
 "metadata": {
  "kernelspec": {
   "display_name": "Python 3.11.0 64-bit",
   "language": "python",
   "name": "python3"
  },
  "language_info": {
   "codemirror_mode": {
    "name": "ipython",
    "version": 3
   },
   "file_extension": ".py",
   "mimetype": "text/x-python",
   "name": "python",
   "nbconvert_exporter": "python",
   "pygments_lexer": "ipython3",
   "version": "3.11.0"
  },
  "orig_nbformat": 4,
  "vscode": {
   "interpreter": {
    "hash": "5c7b89af1651d0b8571dde13640ecdccf7d5a6204171d6ab33e7c296e100e08a"
   }
  }
 },
 "nbformat": 4,
 "nbformat_minor": 2
}
